{
 "cells": [
  {
   "cell_type": "markdown",
   "id": "409f0f4a",
   "metadata": {},
   "source": [
    "**Ödev-1:** Kullanıcıdan maaş bilgisini istenir ve bu bilgiye göre maaşından ne kadar vergi kesileceğini hesaplanır. Kullanıcının geliri;\n",
    "\n",
    "1. 10000 ve altındaysa maaşından %5 kesinti olur.\n",
    "2. 25000 ve altındaysa maaşından %10 kesinti olur.\n",
    "3. 45000 ve altındaysa maaşından %25 kesinti olur.\n",
    "4. Diğer koşullarda %30 kesinti olur.\n",
    "\n",
    "Bu durumlara göre kullanıcının yeni maaşı yazdırılır."
   ]
  },
  {
   "cell_type": "code",
   "execution_count": 4,
   "id": "5246e510",
   "metadata": {},
   "outputs": [
    {
     "name": "stdout",
     "output_type": "stream",
     "text": [
      "maaş bilgisini giriniz:60000\n",
      "yeni maaş tutarı: 42000.0\n"
     ]
    }
   ],
   "source": [
    "maaş = int(input(\"maaş bilgisini giriniz:\"))\n",
    "\n",
    "if maaş < 10000 :\n",
    "    kesintili_maaş = maaş-(maaş*5/100)\n",
    "    print(\"yeni maaş tutarı:\" , kesintili_maaş)\n",
    "    \n",
    "elif maaş < 25000 : \n",
    "    kesintili_maaş = maaş-(maaş*10/100)\n",
    "    print(\"yeni maaş tutarı:\" , kesintili_maaş)\n",
    "    \n",
    "elif maaş < 45000:\n",
    "    kesintili_maaş = maaş-(maaş*25/100)\n",
    "    print(\"yeni maaş tutarı:\" , kesintili_maaş)\n",
    "    \n",
    "else:\n",
    "    kesintili_maaş = maaş-(maaş*30/100)\n",
    "    print(\"yeni maaş tutarı:\" ,  kesintili_maaş)\n",
    "    "
   ]
  },
  {
   "cell_type": "markdown",
   "id": "f5fe8798",
   "metadata": {},
   "source": [
    "**Ödev-2:** Kullanıcıdan kullanıcı adı ve şifre oluşturmasını istenir. Şifrenin uzunluğu altı haneye ulaşmışsa hesabınız oluşturuldu mesajı alınır, altı haneden azsa altı haneli şifre oluşturması gerektiğinin mesajı alınır. *(Sadece koşul kullanılması yeterli.)*"
   ]
  },
  {
   "cell_type": "code",
   "execution_count": 7,
   "id": "6acffe57",
   "metadata": {},
   "outputs": [
    {
     "name": "stdout",
     "output_type": "stream",
     "text": [
      "kullanıcı adını giriniz:betül\n",
      "şifreyi giriniz:324235\n",
      "hesabınız oluşturuldu!\n"
     ]
    }
   ],
   "source": [
    "isim = input(\"kullanıcı adını giriniz:\")\n",
    "\n",
    "şifre = input(\"şifreyi giriniz:\")\n",
    "\n",
    "if len(şifre) >= 6:\n",
    "    print(\"hesabınız oluşturuldu!\")\n",
    "    \n",
    "elif len(şifre) < 6:\n",
    "    print(\"altı karakterden oluşan şifre giriniz!\")\n",
    "    \n",
    "    "
   ]
  },
  {
   "cell_type": "markdown",
   "id": "aaccf11a",
   "metadata": {},
   "source": [
    "**Ödev-3:** Bir önceki örnek geliştirilir.\n",
    "\n",
    "1. Kullanıcı girdiği şifre 5 ve 10 hane arasında olmak zorunda.\n",
    "2. Eğer bu koşula uyuyorsa \"Hesabınız oluşturuldu.\" mesajı alır.\n",
    "3. Koşulu sağlamıyorsa \"Lütfen girdiniz şifre 5 haneden az 10 haneden fazla olmasın!\" uyarısı alır.\n",
    "4. Bunu oluştururken kullanıcı istediğimiz şartlarda şifre oluşturana kadar sormaya devam eder"
   ]
  },
  {
   "cell_type": "code",
   "execution_count": 14,
   "id": "039e50dc",
   "metadata": {},
   "outputs": [
    {
     "name": "stdout",
     "output_type": "stream",
     "text": [
      "şifreyi giriniz:45367837777\n",
      "Lütfen girdiğiniz şifre 5 haneden az 10 haneden fazla olmasın!\n"
     ]
    }
   ],
   "source": [
    "şifre = input(\"şifreyi giriniz:\")\n",
    "\n",
    "if 5 <= len(şifre) <= 10:\n",
    "    print(\"hesabınız oluşturuldu.\")\n",
    "else:\n",
    "    print(\"Lütfen girdiğiniz şifre 5 haneden az 10 haneden fazla olmasın!\")\n"
   ]
  },
  {
   "cell_type": "markdown",
   "id": "8ba81863",
   "metadata": {},
   "source": [
    "**Ödev-4:** Kullanıcıdan isim ve şifre isteyeceğiz ve şifre girişi için üç hak verilir.\n",
    "\n",
    "1. Eğer önceden tanımlı şifre ile kullanıcıdan gelen şifre aynıysa \"Giriş yapıldı.\" yazar.\n",
    "2. Şifre girişi yanlışsa \"Yanlış şifre girildi!\" uyarısı verilsin ve üç yanlış denemede program biter.\n",
    "3. Tercihe göre kalan hak bilgisi verilir."
   ]
  },
  {
   "cell_type": "code",
   "execution_count": 27,
   "id": "8f45ea0c",
   "metadata": {},
   "outputs": [
    {
     "name": "stdout",
     "output_type": "stream",
     "text": [
      "Kullanıcı adı: f\n",
      "Şifre: 3452\n",
      "Yanlış şifre girildi!\n",
      "Kalan hak sayısı: 2\n",
      "Kullanıcı adı: f\n",
      "Şifre: 312\n",
      "Yanlış şifre girildi!\n",
      "Kalan hak sayısı: 1\n",
      "Kullanıcı adı: 43132\n",
      "Şifre: 232\n",
      "Yanlış şifre girildi!\n",
      "Kalan hak sayısı: 0\n",
      "Giriş hakkınız doldu.\n"
     ]
    }
   ],
   "source": [
    "# Önceden tanımlı şifre\n",
    "sifre = \"123456\"\n",
    "\n",
    "deneme_sayisi = 3\n",
    "\n",
    "while deneme_sayisi > 0:\n",
    "\n",
    "    isim = input(\"Kullanıcı adı: \")\n",
    "    sifre_girisi = input(\"Şifre: \")\n",
    "\n",
    "    if sifre == sifre_girisi:\n",
    "        print(\"Giriş yapıldı.\")\n",
    "        break\n",
    "    else:\n",
    "        print(\"Yanlış şifre girildi!\")\n",
    "        deneme_sayisi -= 1\n",
    "        print(\"Kalan hak sayısı:\", deneme_sayisi)\n",
    "\n",
    "if deneme_sayisi == 0:\n",
    "    print(\"Giriş hakkınız doldu.\")\n"
   ]
  },
  {
   "cell_type": "code",
   "execution_count": null,
   "id": "0fb103b8",
   "metadata": {},
   "outputs": [],
   "source": []
  }
 ],
 "metadata": {
  "kernelspec": {
   "display_name": "Python 3 (ipykernel)",
   "language": "python",
   "name": "python3"
  },
  "language_info": {
   "codemirror_mode": {
    "name": "ipython",
    "version": 3
   },
   "file_extension": ".py",
   "mimetype": "text/x-python",
   "name": "python",
   "nbconvert_exporter": "python",
   "pygments_lexer": "ipython3",
   "version": "3.11.3"
  }
 },
 "nbformat": 4,
 "nbformat_minor": 5
}
